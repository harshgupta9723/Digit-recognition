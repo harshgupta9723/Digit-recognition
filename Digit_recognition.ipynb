{
  "nbformat": 4,
  "nbformat_minor": 0,
  "metadata": {
    "colab": {
      "name": "Digit_recognition.ipynb",
      "provenance": [],
      "collapsed_sections": [],
      "mount_file_id": "1RsxhDCJ9zv6xWgz9uyA4cQzESHCCA96u",
      "authorship_tag": "ABX9TyPzzutonEJf64HvY0RbXRCX",
      "include_colab_link": true
    },
    "kernelspec": {
      "name": "python3",
      "display_name": "Python 3"
    }
  },
  "cells": [
    {
      "cell_type": "markdown",
      "metadata": {
        "id": "view-in-github",
        "colab_type": "text"
      },
      "source": [
        "<a href=\"https://colab.research.google.com/github/harshgupta9723/Digit-recognition/blob/master/Digit_recognition.ipynb\" target=\"_parent\"><img src=\"https://colab.research.google.com/assets/colab-badge.svg\" alt=\"Open In Colab\"/></a>"
      ]
    },
    {
      "cell_type": "code",
      "metadata": {
        "id": "5iUGvZBjhr0v"
      },
      "source": [
        "import numpy as np\n",
        "import pandas as pd\n",
        "import matplotlib.pyplot as plt"
      ],
      "execution_count": 2,
      "outputs": []
    },
    {
      "cell_type": "markdown",
      "metadata": {
        "id": "09lQKD-BOgQK"
      },
      "source": [
        "# Data analysis and visualization on MNIST data"
      ]
    },
    {
      "cell_type": "code",
      "metadata": {
        "id": "st43CAS_kffr",
        "outputId": "7d70e9ba-632c-4ff5-b667-7869d8dca41e",
        "colab": {
          "base_uri": "https://localhost:8080/",
          "height": 159
        }
      },
      "source": [
        "# Importing mnist data\n",
        "# Data is available in splited format of train and set\n",
        "\n",
        "project_data = pd.read_csv('/content/drive/My Drive/Project ideas/digit_recognition/data/digit-recognizer/train.csv')\n",
        "\n",
        "print(project_data.head()) # print first five rows of d0.\n",
        "\n",
        "# save the labels into a variable l.\n",
        "l = project_data['label']\n",
        "\n",
        "# Drop the label feature and store the pixel data in d.\n",
        "d = project_data.drop(\"label\",axis=1)"
      ],
      "execution_count": 4,
      "outputs": [
        {
          "output_type": "stream",
          "text": [
            "   label  pixel0  pixel1  pixel2  ...  pixel780  pixel781  pixel782  pixel783\n",
            "0      1       0       0       0  ...         0         0         0         0\n",
            "1      0       0       0       0  ...         0         0         0         0\n",
            "2      1       0       0       0  ...         0         0         0         0\n",
            "3      4       0       0       0  ...         0         0         0         0\n",
            "4      0       0       0       0  ...         0         0         0         0\n",
            "\n",
            "[5 rows x 785 columns]\n"
          ],
          "name": "stdout"
        }
      ]
    },
    {
      "cell_type": "code",
      "metadata": {
        "id": "qkykGd8XyVeY",
        "outputId": "36e3a986-8b96-412a-c01e-6748e90eb735",
        "colab": {
          "base_uri": "https://localhost:8080/",
          "height": 53
        }
      },
      "source": [
        "# Explaination about image\n",
        "print(d.shape)\n",
        "print(l.shape)"
      ],
      "execution_count": 5,
      "outputs": [
        {
          "output_type": "stream",
          "text": [
            "(42000, 784)\n",
            "(42000,)\n"
          ],
          "name": "stdout"
        }
      ]
    },
    {
      "cell_type": "code",
      "metadata": {
        "id": "2RACWKv9eV5Q"
      },
      "source": [
        "# display or plot a number.\n",
        "plt.figure(figsize=(7,7))\n",
        "idx = 1\n",
        "\n",
        "grid_data = d.iloc[idx].as_matrix().reshape(28,28)  # reshape from 1d to 2d pixel array\n",
        "plt.imshow(grid_data, interpolation = \"none\", cmap = \"gray\")\n",
        "plt.show()\n",
        "\n",
        "print(l[idx])"
      ],
      "execution_count": null,
      "outputs": []
    },
    {
      "cell_type": "code",
      "metadata": {
        "id": "wwEw1O3qe-Yy"
      },
      "source": [
        "# Pick first 15K data-points to work on for time-effeciency.\n",
        "#Excercise: Perform the same analysis on all of 42K data-points.\n",
        "\n",
        "labels = l.head(15000)\n",
        "data = d.head(15000)\n",
        "\n",
        "print(\"the shape of sample data = \", data.shape)"
      ],
      "execution_count": null,
      "outputs": []
    },
    {
      "cell_type": "markdown",
      "metadata": {
        "id": "Tgrrp_3XOb_s"
      },
      "source": [
        "# Encoding techniques "
      ]
    },
    {
      "cell_type": "code",
      "metadata": {
        "id": "DQtKZAg9ObMY"
      },
      "source": [
        ""
      ],
      "execution_count": null,
      "outputs": []
    },
    {
      "cell_type": "markdown",
      "metadata": {
        "id": "b2-5gXviOvtc"
      },
      "source": [
        "# Machine learning models and their perpformance"
      ]
    },
    {
      "cell_type": "code",
      "metadata": {
        "id": "1WTxxbFUO5sL"
      },
      "source": [
        ""
      ],
      "execution_count": null,
      "outputs": []
    },
    {
      "cell_type": "code",
      "metadata": {
        "id": "hk2B5o0uPAfM"
      },
      "source": [
        ""
      ],
      "execution_count": null,
      "outputs": []
    },
    {
      "cell_type": "markdown",
      "metadata": {
        "id": "1PbHpgMlO540"
      },
      "source": [
        "# Neural networks "
      ]
    },
    {
      "cell_type": "code",
      "metadata": {
        "id": "GNeGi-syPCjD"
      },
      "source": [
        ""
      ],
      "execution_count": null,
      "outputs": []
    }
  ]
}