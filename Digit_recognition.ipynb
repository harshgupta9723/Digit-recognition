{
  "nbformat": 4,
  "nbformat_minor": 0,
  "metadata": {
    "colab": {
      "name": "Digit_recognition.ipynb",
      "provenance": [],
      "collapsed_sections": [],
      "mount_file_id": "1RsxhDCJ9zv6xWgz9uyA4cQzESHCCA96u",
      "authorship_tag": "ABX9TyMNkzq2LGYQVjI6bamcVvHS",
      "include_colab_link": true
    },
    "kernelspec": {
      "name": "python3",
      "display_name": "Python 3"
    }
  },
  "cells": [
    {
      "cell_type": "markdown",
      "metadata": {
        "id": "view-in-github",
        "colab_type": "text"
      },
      "source": [
        "<a href=\"https://colab.research.google.com/github/harshgupta9723/Digit-recognition/blob/master/Digit_recognition.ipynb\" target=\"_parent\"><img src=\"https://colab.research.google.com/assets/colab-badge.svg\" alt=\"Open In Colab\"/></a>"
      ]
    },
    {
      "cell_type": "markdown",
      "metadata": {
        "id": "8Xh4mEr0fiVR"
      },
      "source": [
        "# DIGIT RECOGNITION"
      ]
    },
    {
      "cell_type": "code",
      "metadata": {
        "id": "5iUGvZBjhr0v"
      },
      "source": [
        "#import libraries\n",
        "\n",
        "import numpy as np\n",
        "import pandas as pd\n",
        "import matplotlib.pyplot as plt"
      ],
      "execution_count": null,
      "outputs": []
    },
    {
      "cell_type": "markdown",
      "metadata": {
        "id": "09lQKD-BOgQK"
      },
      "source": [
        "# Data analysis and visualization on MNIST data"
      ]
    },
    {
      "cell_type": "code",
      "metadata": {
        "id": "st43CAS_kffr",
        "outputId": "3189266d-d2e3-4ba3-9492-e1c07f0a4765",
        "colab": {
          "base_uri": "https://localhost:8080/",
          "height": 159
        }
      },
      "source": [
        "# Importing mnist data\n",
        "# Data is available in splited format of train and set\n",
        "\n",
        "project_data = pd.read_csv('/content/drive/My Drive/Project ideas/digit_recognition/data/digit-recognizer/train.csv')\n",
        "\n",
        "# print row of project_data\n",
        "print(project_data.head(5))\n",
        "\n",
        "# save the labels into a variable label\n",
        "# lable conatins the digit which is represented by pixels\n",
        "\n",
        "label = project_data['label']\n",
        "\n",
        "# Drop the label feature and store the pixel data into variable data.\n",
        "# each row in data contains 784 pixels i.e each image is consists of 784 pixels\n",
        "\n",
        "data = project_data.drop(\"label\",axis=1)"
      ],
      "execution_count": null,
      "outputs": [
        {
          "output_type": "stream",
          "text": [
            "   label  pixel0  pixel1  pixel2  ...  pixel780  pixel781  pixel782  pixel783\n",
            "0      1       0       0       0  ...         0         0         0         0\n",
            "1      0       0       0       0  ...         0         0         0         0\n",
            "2      1       0       0       0  ...         0         0         0         0\n",
            "3      4       0       0       0  ...         0         0         0         0\n",
            "4      0       0       0       0  ...         0         0         0         0\n",
            "\n",
            "[5 rows x 785 columns]\n"
          ],
          "name": "stdout"
        }
      ]
    },
    {
      "cell_type": "code",
      "metadata": {
        "id": "qkykGd8XyVeY",
        "outputId": "373cf3be-9d13-4b6a-ebe9-f4d9daf4e35e",
        "colab": {
          "base_uri": "https://localhost:8080/",
          "height": 53
        }
      },
      "source": [
        "# Explaination about image\n",
        "\n",
        "print(\"This represents (no. of rows, no. of columns) in the data - \",data.shape)\n",
        "print(\"no. of lables - \",label.shape)"
      ],
      "execution_count": null,
      "outputs": [
        {
          "output_type": "stream",
          "text": [
            "This represents (no. of rows, no. of columns) in the data -  (42000, 784)\n",
            "no. of lables -  (42000,)\n"
          ],
          "name": "stdout"
        }
      ]
    },
    {
      "cell_type": "code",
      "metadata": {
        "id": "2RACWKv9eV5Q",
        "outputId": "5f1745e9-38b8-46b3-c96f-d573d543ab4e",
        "colab": {
          "base_uri": "https://localhost:8080/",
          "height": 610
        }
      },
      "source": [
        "# display or plot a number.\n",
        "\n",
        "\n",
        "# data.iloc[1] - function is used to get row of given index (mainly used when data is not provided in index)\n",
        "# .to_numpy() - function is used to convert given row into numpy array, to further convert it into (28,28) pixels\n",
        "# .reshape(28,28) - function is used to convert 784 pixel data point into 28 rows and 28 columns\n",
        "\n",
        "index = 1\n",
        "\n",
        "grid_data = data.iloc[index].to_numpy().reshape(28,28)\n",
        "\n",
        "# figsize is used to define size of the image\n",
        "plt.figure(figsize=(10,10))\n",
        "\n",
        "# imshow plot numpy array (28,28)\n",
        "plt.imshow(grid_data,cmap = \"gray\")"
      ],
      "execution_count": null,
      "outputs": [
        {
          "output_type": "execute_result",
          "data": {
            "text/plain": [
              "<matplotlib.image.AxesImage at 0x7f6ef3c70f28>"
            ]
          },
          "metadata": {
            "tags": []
          },
          "execution_count": 29
        },
        {
          "output_type": "display_data",
          "data": {
            "image/png": "[encoded data removed]",
            "text/plain": [
              "<Figure size 720x720 with 1 Axes>"
            ]
          },
          "metadata": {
            "tags": [],
            "needs_background": "light"
          }
        }
      ]
    },
    {
      "cell_type": "code",
      "metadata": {
        "id": "wwEw1O3qe-Yy"
      },
      "source": [
        ""
      ],
      "execution_count": null,
      "outputs": []
    },
    {
      "cell_type": "markdown",
      "metadata": {
        "id": "Tgrrp_3XOb_s"
      },
      "source": [
        "# Encoding techniques "
      ]
    },
    {
      "cell_type": "code",
      "metadata": {
        "id": "DQtKZAg9ObMY"
      },
      "source": [
        ""
      ],
      "execution_count": null,
      "outputs": []
    }
  ]
}