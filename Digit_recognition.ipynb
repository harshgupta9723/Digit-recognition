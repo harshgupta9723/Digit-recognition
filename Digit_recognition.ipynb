{
  "nbformat": 4,
  "nbformat_minor": 0,
  "metadata": {
    "colab": {
      "name": "Digit_recognition.ipynb",
      "provenance": [],
      "collapsed_sections": [],
      "mount_file_id": "1RsxhDCJ9zv6xWgz9uyA4cQzESHCCA96u",
      "authorship_tag": "ABX9TyOpCBjmdyLpoJi1QcCEJ9On",
      "include_colab_link": true
    },
    "kernelspec": {
      "name": "python3",
      "display_name": "Python 3"
    }
  },
  "cells": [
    {
      "cell_type": "markdown",
      "metadata": {
        "id": "view-in-github",
        "colab_type": "text"
      },
      "source": [
        "<a href=\"https://colab.research.google.com/github/harshgupta9723/Digit-recognition/blob/master/Digit_recognition.ipynb\" target=\"_parent\"><img src=\"https://colab.research.google.com/assets/colab-badge.svg\" alt=\"Open In Colab\"/></a>"
      ]
    },
    {
      "cell_type": "markdown",
      "metadata": {
        "id": "8Xh4mEr0fiVR"
      },
      "source": [
        "# DIGIT RECOGNITION"
      ]
    },
    {
      "cell_type": "code",
      "metadata": {
        "id": "5iUGvZBjhr0v",
        "colab": {
          "base_uri": "https://localhost:8080/"
        },
        "outputId": "b16eb7bf-5a6a-4c3d-aa82-8bd83a6706e4"
      },
      "source": [
        "#import libraries\n",
        "\n",
        "import numpy as np\n",
        "import pandas as pd\n",
        "import matplotlib.pyplot as plt\n",
        "from sklearn import preprocessing\n",
        "from sklearn.linear_model import SGDClassifier\n",
        "from sklearn.preprocessing import StandardScaler\n",
        "from sklearn.model_selection import train_test_split\n",
        "from sklearn.metrics import accuracy_score, confusion_matrix\n",
        "from sklearn.calibration import CalibratedClassifierCV\n",
        "from sklearn.metrics.classification import accuracy_score, log_loss"
      ],
      "execution_count": 25,
      "outputs": [
        {
          "output_type": "stream",
          "text": [
            "/usr/local/lib/python3.6/dist-packages/sklearn/utils/deprecation.py:144: FutureWarning: The sklearn.metrics.classification module is  deprecated in version 0.22 and will be removed in version 0.24. The corresponding classes / functions should instead be imported from sklearn.metrics. Anything that cannot be imported from sklearn.metrics is now part of the private API.\n",
            "  warnings.warn(message, FutureWarning)\n"
          ],
          "name": "stderr"
        }
      ]
    },
    {
      "cell_type": "markdown",
      "metadata": {
        "id": "09lQKD-BOgQK"
      },
      "source": [
        "# Data analysis and visualization on MNIST data"
      ]
    },
    {
      "cell_type": "code",
      "metadata": {
        "id": "st43CAS_kffr",
        "colab": {
          "base_uri": "https://localhost:8080/"
        },
        "outputId": "cc232813-271d-4538-cec4-7279347ac753"
      },
      "source": [
        "# Importing mnist data\n",
        "# Data is available in splited format of train and set\n",
        "\n",
        "project_data = pd.read_csv('/content/drive/My Drive/Project ideas/digit_recognition/data/digit-recognizer/train.csv')\n",
        "\n",
        "# print row of project_data\n",
        "print(project_data.head(5))\n",
        "\n",
        "# save the labels into a variable label\n",
        "# lable conatins the digit which is represented by pixels\n",
        "\n",
        "label = project_data['label']\n",
        "\n",
        "# Drop the label feature and store the pixel data into variable data.\n",
        "# each row in data contains 784 pixels i.e each image is consists of 784 pixels\n",
        "\n",
        "data = project_data.drop(\"label\",axis=1)"
      ],
      "execution_count": 2,
      "outputs": [
        {
          "output_type": "stream",
          "text": [
            "   label  pixel0  pixel1  pixel2  ...  pixel780  pixel781  pixel782  pixel783\n",
            "0      1       0       0       0  ...         0         0         0         0\n",
            "1      0       0       0       0  ...         0         0         0         0\n",
            "2      1       0       0       0  ...         0         0         0         0\n",
            "3      4       0       0       0  ...         0         0         0         0\n",
            "4      0       0       0       0  ...         0         0         0         0\n",
            "\n",
            "[5 rows x 785 columns]\n"
          ],
          "name": "stdout"
        }
      ]
    },
    {
      "cell_type": "code",
      "metadata": {
        "id": "qkykGd8XyVeY",
        "colab": {
          "base_uri": "https://localhost:8080/"
        },
        "outputId": "07f43143-18fc-4d55-d9cd-cda7497c5e18"
      },
      "source": [
        "# Explaination about image\n",
        "\n",
        "print(\"This represents (no. of rows, no. of columns) in the data - \",data.shape)\n",
        "print(\"no. of lables - \",label.shape)"
      ],
      "execution_count": 3,
      "outputs": [
        {
          "output_type": "stream",
          "text": [
            "This represents (no. of rows, no. of columns) in the data -  (42000, 784)\n",
            "no. of lables -  (42000,)\n"
          ],
          "name": "stdout"
        }
      ]
    },
    {
      "cell_type": "code",
      "metadata": {
        "id": "2RACWKv9eV5Q",
        "colab": {
          "base_uri": "https://localhost:8080/",
          "height": 610
        },
        "outputId": "e3155a07-e57a-4984-fb63-77d66c39d186"
      },
      "source": [
        "# display or plot a number.\n",
        "\n",
        "\n",
        "# data.iloc[1] - function is used to get row of given index (mainly used when data is not provided in index)\n",
        "# .to_numpy() - function is used to convert given row into numpy array, to further convert it into (28,28) pixels\n",
        "# .reshape(28,28) - function is used to convert 784 pixel data point into 28 rows and 28 columns\n",
        "\n",
        "index = 10\n",
        "\n",
        "grid_data = data.iloc[index].to_numpy().reshape(28,28)\n",
        "\n",
        "# figsize is used to define size of the image\n",
        "plt.figure(figsize=(10,10))\n",
        "\n",
        "# imshow plot numpy array (28,28)\n",
        "plt.imshow(grid_data,cmap = \"gray\")"
      ],
      "execution_count": 7,
      "outputs": [
        {
          "output_type": "execute_result",
          "data": {
            "text/plain": [
              "<matplotlib.image.AxesImage at 0x7fe7af59ef98>"
            ]
          },
          "metadata": {
            "tags": []
          },
          "execution_count": 7
        },
        {
          "output_type": "display_data",
          "data": {
            "image/png": "[encoded data removed]",
            "text/plain": [
              "<Figure size 720x720 with 1 Axes>"
            ]
          },
          "metadata": {
            "tags": [],
            "needs_background": "light"
          }
        }
      ]
    },
    {
      "cell_type": "markdown",
      "metadata": {
        "id": "Zfu5XCcx3C5b"
      },
      "source": [
        "# Split data"
      ]
    },
    {
      "cell_type": "code",
      "metadata": {
        "id": "TgGQgKdF3CE7"
      },
      "source": [
        "X = data\n",
        "y = label\n",
        "\n",
        "\n",
        "xtrain, xtest, ytrain, ytest = train_test_split(X, y, stratify=y, test_size=0.2)\n",
        "xtrain, xcv, ytrain, ycv = train_test_split(xtrain, ytrain, stratify=ytrain, test_size=0.2)"
      ],
      "execution_count": 14,
      "outputs": []
    },
    {
      "cell_type": "markdown",
      "metadata": {
        "id": "Tgrrp_3XOb_s"
      },
      "source": [
        "# Encoding techniques "
      ]
    },
    {
      "cell_type": "code",
      "metadata": {
        "id": "DQtKZAg9ObMY"
      },
      "source": [
        "# Data-preprocessing: normalizing the data\n",
        "\n",
        "xtrain_normalized = preprocessing.normalize(xtrain)\n",
        "xtest_normalized = preprocessing.normalize(xtest)\n",
        "xcv_normalized = preprocessing.normalize(xcv)"
      ],
      "execution_count": 18,
      "outputs": []
    },
    {
      "cell_type": "markdown",
      "metadata": {
        "id": "BaO5htCO71I-"
      },
      "source": [
        "# Model taining"
      ]
    },
    {
      "cell_type": "code",
      "metadata": {
        "id": "NIkb1q4j7-7E"
      },
      "source": [
        "# hyper parameter tuning of sgd classifier\n",
        "\n",
        "# declare range of alpha(hyper parameter)\n",
        "alpha = [10 ** x for x in range(-6, 3)]\n",
        "cv_log_error_array = []\n",
        "for i in alpha:\n",
        "    print(\"for alpha =\", i)\n",
        "\n",
        "    # use class_weight = 'balanced' for imbalanced dataset\n",
        "    clf = SGDClassifier(class_weight='balanced', alpha=i, penalty='l2', loss='log', random_state=42)\n",
        "    clf.fit(xtrain_normalized, ytrain)\n",
        "\n",
        "    # calibrated classifier to calculate the probablity of predicted categorys\n",
        "    sig_clf = CalibratedClassifierCV(clf, method=\"sigmoid\")\n",
        "    sig_clf.fit(xtrain_normalized, ytrain)\n",
        "    sig_clf_probs = sig_clf.predict_proba(xcv_normalized)\n",
        "    cv_log_error_array.append(log_loss(ycv, sig_clf_probs, labels=clf.classes_, eps=1e-15))\n",
        "\n",
        "    # to avoid rounding error while multiplying probabilites we use log-probability estimates\n",
        "    print(\"Log Loss :\",log_loss(ycv, sig_clf_probs)) \n",
        "\n",
        "fig, ax = plt.subplots()\n",
        "ax.plot(alpha, cv_log_error_array,c='g')\n",
        "for i, txt in enumerate(np.round(cv_log_error_array,3)):\n",
        "    ax.annotate((alpha[i],str(txt)), (alpha[i],cv_log_error_array[i]))\n",
        "plt.grid()\n",
        "plt.title(\"Cross Validation Error for each alpha\")\n",
        "plt.xlabel(\"Alpha i's\")\n",
        "plt.ylabel(\"Error measure\")\n",
        "plt.show()\n",
        "\n",
        "\n",
        "# get best alpha for minimum log loss\n",
        "best_alpha = np.argmin(cv_log_error_array)\n",
        "\n",
        "# train model for on best hyper parameter\n",
        "clf = SGDClassifier(class_weight='balanced', alpha=alpha[best_alpha], penalty='l2', loss='log',random_state=42)\n",
        "clf.fit(xtrain_normalized, ytrain)\n",
        "sig_clf = CalibratedClassifierCV(clf, method=\"sigmoid\")\n",
        "sig_clf.fit(xtrain_normalized, ytrain)\n",
        "\n",
        "predict_y = sig_clf.predict_proba(xtrain_normalized)\n",
        "print('For values of best alpha = ', alpha[best_alpha], \"The train log loss is:\",log_loss(ytrain, predict_y, labels=clf.classes_, eps=1e-15))\n",
        "predict_y = sig_clf.predict_proba(xcv_normalized)\n",
        "print('For values of best alpha = ', alpha[best_alpha], \"The cross validation log loss is:\",log_loss(ycv, predict_y, labels=clf.classes_, eps=1e-15))\n",
        "predict_y = sig_clf.predict_proba(xtest_normalized)\n",
        "print('For values of best alpha = ', alpha[best_alpha], \"The test log loss is:\",log_loss(ytest, predict_y, labels=clf.classes_, eps=1e-15))"
      ],
      "execution_count": null,
      "outputs": []
    },
    {
      "cell_type": "code",
      "metadata": {
        "id": "KYaLJu4E7_Ib"
      },
      "source": [
        ""
      ],
      "execution_count": null,
      "outputs": []
    }
  ]
}